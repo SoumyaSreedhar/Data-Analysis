{
 "cells": [
  {
   "cell_type": "code",
   "execution_count": 124,
   "metadata": {},
   "outputs": [],
   "source": [
    "import pandas as pd\n",
    "import numpy as np\n",
    "import re\n",
    "import datetime\n",
    "from dateutil.parser import parse"
   ]
  },
  {
   "cell_type": "code",
   "execution_count": 125,
   "metadata": {},
   "outputs": [],
   "source": [
    "import urllib.parse\n",
    "import urllib.request\n",
    "import json\n",
    "from gmplot import gmplot\n",
    "import webbrowser\n",
    "import os\n",
    "import requests"
   ]
  },
  {
   "cell_type": "markdown",
   "metadata": {},
   "source": [
    "Loading the Data!"
   ]
  },
  {
   "cell_type": "code",
   "execution_count": 158,
   "metadata": {},
   "outputs": [
    {
     "name": "stdout",
     "output_type": "stream",
     "text": [
      "Total records:  35198\n",
      "Headers:\n",
      "['id', 'vendor_id', 'pickup_datetime', 'dropoff_datetime', 'passenger_count', 'pickup_longitude', 'pickup_latitude', 'dropoff_longitude', 'dropoff_latitude', 'store_and_fwd_flag', 'trip_duration']\n"
     ]
    }
   ],
   "source": [
    "train_data = pd.read_csv('New_Train.csv')\n",
    "Total_recs = len(train_data)\n",
    "print(\"Total records: \" ,Total_recs)\n",
    "print(\"Headers:\")\n",
    "print(list(train_data))"
   ]
  },
  {
   "cell_type": "markdown",
   "metadata": {},
   "source": [
    "Checking the \"ID\" field for integrity"
   ]
  },
  {
   "cell_type": "code",
   "execution_count": 153,
   "metadata": {},
   "outputs": [
    {
     "name": "stdout",
     "output_type": "stream",
     "text": [
      "All Entries Clean\n"
     ]
    }
   ],
   "source": [
    "count=0\n",
    "\n",
    "for each in train_data['id']:\n",
    "    regex = re.compile(r'(\\d+|\\s+)')\n",
    "    entries = regex.split(each)\n",
    "    if each.isalnum() and entries[0]==\"id\" and entries[1].isdigit():\n",
    "        count+=1\n",
    "    else:\n",
    "        print(\"Error at index:\",count, each)\n",
    "        \n",
    "if(count == Total_recs):\n",
    "    print(\"All Entries Clean\")\n",
    "else:\n",
    "    error_count = Total_recs - count\n",
    "    print(\"Wrong Entries:\", error_count)\n"
   ]
  },
  {
   "cell_type": "markdown",
   "metadata": {},
   "source": [
    "Checking the Vendor ID field for integrity"
   ]
  },
  {
   "cell_type": "code",
   "execution_count": 128,
   "metadata": {},
   "outputs": [
    {
     "name": "stdout",
     "output_type": "stream",
     "text": [
      "All Entries Clean\n"
     ]
    }
   ],
   "source": [
    "count = 0\n",
    "for each in train_data['vendor_id']:\n",
    "    if str(each).isdigit():\n",
    "        count+=1\n",
    "    else:\n",
    "        print(\"Error  at index:\",count, each)\n",
    "        \n",
    "        \n",
    "if(count == Total_recs):\n",
    "    print(\"All Entries Clean\")\n",
    "else:\n",
    "    error_count = Total_recs - count\n",
    "    print(\"Wrong Entries:\", error_count)"
   ]
  },
  {
   "cell_type": "code",
   "execution_count": 129,
   "metadata": {},
   "outputs": [],
   "source": [
    "def check_date_time(date):\n",
    "    try: \n",
    "        parse(date)\n",
    "        return True\n",
    "    except ValueError:\n",
    "        return False\n",
    "    "
   ]
  },
  {
   "cell_type": "code",
   "execution_count": 130,
   "metadata": {},
   "outputs": [],
   "source": [
    "count = 0\n",
    "New_Columns = ['pickup_date', 'pickup_time']\n",
    "new_frame = pd.DataFrame(index = train_data.index.values, columns=New_Columns)\n",
    "for each in train_data['pickup_datetime']:\n",
    "    date,time = each.split(\" \")\n",
    "    if check_date_time(date) and check_date_time(time):\n",
    "        new_frame.loc[new_frame.index[count], \"pickup_date\"] = str(date)\n",
    "        new_frame.loc[new_frame.index[count], \"pickup_time\"] = str(time)\n",
    "        count+=1\n",
    "    else:\n",
    "        print(\"Error at index:\",count, date, time)"
   ]
  },
  {
   "cell_type": "code",
   "execution_count": 152,
   "metadata": {},
   "outputs": [],
   "source": [
    "count=0\n",
    "for each in train_data['trip_duration']:\n",
    "    train_data.loc[train_data.index[count], \"trip_duration\"] = str(datetime.timedelta(seconds=each))\n",
    "    count+=1\n",
    "    #print(count)"
   ]
  },
  {
   "cell_type": "code",
   "execution_count": 132,
   "metadata": {},
   "outputs": [
    {
     "name": "stdout",
     "output_type": "stream",
     "text": [
      "['id', 'vendor_id', 'dropoff_datetime', 'passenger_count', 'pickup_longitude', 'pickup_latitude', 'dropoff_longitude', 'dropoff_latitude', 'store_and_fwd_flag', 'trip_duration']\n"
     ]
    }
   ],
   "source": [
    "train_data = train_data.drop(columns=['pickup_datetime'])\n",
    "print(list(train_data))"
   ]
  },
  {
   "cell_type": "code",
   "execution_count": 133,
   "metadata": {},
   "outputs": [],
   "source": [
    "train_data.insert(loc=2, column='pickup_date', value=new_frame['pickup_date'])\n",
    "train_data.insert(loc=3, column='pickup_time', value=new_frame['pickup_time'])"
   ]
  },
  {
   "cell_type": "code",
   "execution_count": 134,
   "metadata": {},
   "outputs": [
    {
     "name": "stdout",
     "output_type": "stream",
     "text": [
      "['id', 'vendor_id', 'pickup_date', 'pickup_time', 'dropoff_datetime', 'passenger_count', 'pickup_longitude', 'pickup_latitude', 'dropoff_longitude', 'dropoff_latitude', 'store_and_fwd_flag', 'trip_duration']\n"
     ]
    }
   ],
   "source": [
    "print(list(train_data))"
   ]
  },
  {
   "cell_type": "code",
   "execution_count": 135,
   "metadata": {},
   "outputs": [],
   "source": [
    "count = 0\n",
    "New_Columns = ['dropoff_date', 'dropoff_time']\n",
    "new_frame2 = pd.DataFrame(index = train_data.index.values, columns=New_Columns)\n",
    "for each in train_data['dropoff_datetime']:\n",
    "    date,time = each.split(\" \")\n",
    "    if check_date_time(date) and check_date_time(time):\n",
    "        new_frame2.loc[new_frame2.index[count], \"dropoff_date\"] = str(date)\n",
    "        new_frame2.loc[new_frame2.index[count], \"dropoff_time\"] = str(time)\n",
    "        count+=1\n",
    "    else:\n",
    "        print(\"Error at index:\",count, date, time)"
   ]
  },
  {
   "cell_type": "code",
   "execution_count": 136,
   "metadata": {},
   "outputs": [
    {
     "name": "stdout",
     "output_type": "stream",
     "text": [
      "['id', 'vendor_id', 'pickup_date', 'pickup_time', 'passenger_count', 'pickup_longitude', 'pickup_latitude', 'dropoff_longitude', 'dropoff_latitude', 'store_and_fwd_flag', 'trip_duration']\n"
     ]
    }
   ],
   "source": [
    "train_data = train_data.drop(columns=['dropoff_datetime'])\n",
    "print(list(train_data))"
   ]
  },
  {
   "cell_type": "code",
   "execution_count": 137,
   "metadata": {},
   "outputs": [],
   "source": [
    "train_data.insert(loc=4, column='dropoff_date', value=new_frame2['dropoff_date'])\n",
    "train_data.insert(loc=5, column='dropoff_time', value=new_frame2['dropoff_time'])"
   ]
  },
  {
   "cell_type": "code",
   "execution_count": 138,
   "metadata": {},
   "outputs": [
    {
     "name": "stdout",
     "output_type": "stream",
     "text": [
      "['id', 'vendor_id', 'pickup_date', 'pickup_time', 'dropoff_date', 'dropoff_time', 'passenger_count', 'pickup_longitude', 'pickup_latitude', 'dropoff_longitude', 'dropoff_latitude', 'store_and_fwd_flag', 'trip_duration']\n"
     ]
    }
   ],
   "source": [
    "print(list(train_data))"
   ]
  },
  {
   "cell_type": "code",
   "execution_count": 139,
   "metadata": {},
   "outputs": [
    {
     "name": "stdout",
     "output_type": "stream",
     "text": [
      "All Entries Clean!\n"
     ]
    }
   ],
   "source": [
    "count = 0\n",
    "for each in train_data['passenger_count']:\n",
    "    if(str(each).isdigit()):\n",
    "        count+=1\n",
    "    else:\n",
    "        print(\"Error at index:\",count, each)\n",
    "\n",
    "if(count == Total_recs):\n",
    "    print(\"All Entries Clean!\")"
   ]
  },
  {
   "cell_type": "code",
   "execution_count": 140,
   "metadata": {},
   "outputs": [
    {
     "name": "stdout",
     "output_type": "stream",
     "text": [
      "All Entries Clean!\n"
     ]
    }
   ],
   "source": [
    "count = 0\n",
    "for each in train_data['pickup_longitude']:\n",
    "    if(isinstance(each, float)):\n",
    "        count+=1\n",
    "    else:\n",
    "        print(\"Error at index:\",count, each)\n",
    "\n",
    "if(count == Total_recs):\n",
    "    print(\"All Entries Clean!\")        "
   ]
  },
  {
   "cell_type": "code",
   "execution_count": 141,
   "metadata": {},
   "outputs": [
    {
     "name": "stdout",
     "output_type": "stream",
     "text": [
      "All Entries Clean!\n"
     ]
    }
   ],
   "source": [
    "count = 0\n",
    "for each in train_data['pickup_latitude']:\n",
    "    if(isinstance(each, float)):\n",
    "        count+=1\n",
    "    else:\n",
    "        print(\"Error at index:\",count, each)\n",
    "\n",
    "if(count == Total_recs):\n",
    "    print(\"All Entries Clean!\")        "
   ]
  },
  {
   "cell_type": "code",
   "execution_count": 142,
   "metadata": {},
   "outputs": [
    {
     "name": "stdout",
     "output_type": "stream",
     "text": [
      "All Entries Clean!\n"
     ]
    }
   ],
   "source": [
    "count = 0\n",
    "for each in train_data['dropoff_longitude']:\n",
    "    if(isinstance(each, float)):\n",
    "        count+=1\n",
    "    else:\n",
    "        print(\"Error at index:\",count, each)\n",
    "\n",
    "if(count == Total_recs):\n",
    "    print(\"All Entries Clean!\")        "
   ]
  },
  {
   "cell_type": "code",
   "execution_count": 143,
   "metadata": {},
   "outputs": [
    {
     "name": "stdout",
     "output_type": "stream",
     "text": [
      "All Entries Clean!\n"
     ]
    }
   ],
   "source": [
    "count = 0\n",
    "for each in train_data['dropoff_latitude']:\n",
    "    if(isinstance(each, float)):\n",
    "        count+=1\n",
    "    else:\n",
    "        print(\"Error at index:\",count, each)\n",
    "\n",
    "if(count == Total_recs):\n",
    "    print(\"All Entries Clean!\")        "
   ]
  },
  {
   "cell_type": "code",
   "execution_count": 144,
   "metadata": {},
   "outputs": [
    {
     "name": "stdout",
     "output_type": "stream",
     "text": [
      "All Entries Clean!\n"
     ]
    }
   ],
   "source": [
    "count = 0\n",
    "for each in train_data['store_and_fwd_flag']:\n",
    "    if(each==\"N\" or each==\"Y\"):\n",
    "        count+=1\n",
    "    else:\n",
    "        print(\"Error at index:\",count, each)\n",
    "\n",
    "if(count == Total_recs):\n",
    "    print(\"All Entries Clean!\") "
   ]
  },
  {
   "cell_type": "code",
   "execution_count": 145,
   "metadata": {},
   "outputs": [],
   "source": [
    "train_data.to_csv('processed_data.csv',index=False)"
   ]
  },
  {
   "cell_type": "code",
   "execution_count": 146,
   "metadata": {},
   "outputs": [
    {
     "data": {
      "image/png": "[encoded data removed]",
      "text/plain": [
       "<matplotlib.figure.Figure at 0x7f87b84804e0>"
      ]
     },
     "metadata": {},
     "output_type": "display_data"
    }
   ],
   "source": [
    "train_data.hist(column='passenger_count')\n",
    "import matplotlib.pyplot as plt  \n",
    "plt.xlabel('No of Passengers')\n",
    "plt.ylabel('Count');"
   ]
  },
  {
   "cell_type": "code",
   "execution_count": 147,
   "metadata": {},
   "outputs": [
    {
     "data": {
      "image/png": "[encoded data removed]",
      "text/plain": [
       "<matplotlib.figure.Figure at 0x7f87baba2898>"
      ]
     },
     "metadata": {},
     "output_type": "display_data"
    }
   ],
   "source": [
    "import matplotlib.pyplot as plt    \n",
    "counts = train_data['pickup_date'].value_counts(sort=False)\n",
    "plt.bar(counts.index,counts)\n",
    "plt.xlabel('Dates')\n",
    "plt.ylabel('Count');\n",
    "plt.show()"
   ]
  },
  {
   "cell_type": "code",
   "execution_count": 149,
   "metadata": {},
   "outputs": [
    {
     "data": {
      "image/png": "[encoded data removed]",
      "text/plain": [
       "<matplotlib.figure.Figure at 0x7f87a52a1438>"
      ]
     },
     "metadata": {},
     "output_type": "display_data"
    }
   ],
   "source": [
    "(train_data['trip_duration']).hist(bins=range(50, 3000, 1))\n",
    "plt.xlabel('Total Trip Time(s)')\n",
    "plt.ylabel('Rides');"
   ]
  },
  {
   "cell_type": "code",
   "execution_count": 150,
   "metadata": {},
   "outputs": [
    {
     "data": {
      "image/png": "[encoded data removed]",
      "text/plain": [
       "<matplotlib.figure.Figure at 0x7f87b6774f60>"
      ]
     },
     "metadata": {},
     "output_type": "display_data"
    },
    {
     "data": {
      "image/png": "[encoded data removed]",
      "text/plain": [
       "<matplotlib.figure.Figure at 0x7f87a4c5ca90>"
      ]
     },
     "metadata": {},
     "output_type": "display_data"
    }
   ],
   "source": [
    "import matplotlib.pyplot as plt    \n",
    "counts = train_data['pickup_longitude'].value_counts(sort=False)\n",
    "lats = train_data['pickup_latitude'].value_counts(sort=False)\n",
    "plt.bar(counts.index,counts)\n",
    "plt.xlabel('Longitudes')\n",
    "plt.ylabel('Count in 100s');\n",
    "plt.show()\n",
    "plt.bar(lats.index, lats)\n",
    "plt.xlabel('Latitudes')\n",
    "plt.ylabel('Count in 100s');\n",
    "plt.show()"
   ]
  },
  {
   "cell_type": "code",
   "execution_count": 155,
   "metadata": {
    "scrolled": true
   },
   "outputs": [],
   "source": [
    "for each in train_data['trip_duration']:\n",
    "    if(each > \"1:59:00\"):\n",
    "        #print(each)\n",
    "        ind = train_data[train_data['trip_duration']==each].index.values[0]\n",
    "        #print(int(ind))\n",
    "        #print(train_data.loc[[int(ind)]])\n",
    "        if not os.path.isfile('suspected_errors.csv'):\n",
    "            train_data.loc[[int(ind)]].to_csv('suspected_errors.csv',index=False)    \n",
    "        else: # else it exists so append without writing the header\n",
    "            train_data.loc[[int(ind)]].to_csv('suspected_errors.csv', mode='a',header=False,index=False)\n",
    "        train_data.drop(train_data.index[[int(ind)]],inplace=True)"
   ]
  },
  {
   "cell_type": "code",
   "execution_count": 156,
   "metadata": {},
   "outputs": [
    {
     "name": "stdout",
     "output_type": "stream",
     "text": [
      "35139\n"
     ]
    }
   ],
   "source": [
    "print(len(train_data))\n",
    "train_data.to_csv(\"Cleaned_data.csv\",index=False)"
   ]
  },
  {
   "cell_type": "code",
   "execution_count": 159,
   "metadata": {},
   "outputs": [
    {
     "data": {
      "text/plain": [
       "True"
      ]
     },
     "execution_count": 159,
     "metadata": {},
     "output_type": "execute_result"
    }
   ],
   "source": [
    "gmap = gmplot.GoogleMapPlotter(40.64676666, -73.7896347, 16)\n",
    "gmap.heatmap([40.64676666], [-73.7896347])\n",
    "gmap.marker(40.64676666, -73.7896347, 'cornflowerblue')\n",
    "gmap.marker(40.64159012, -73.78881073, 'cornflowerblue')\n",
    "gmap.heatmap([40.64159012], [-73.78881073])\n",
    "\n",
    "\n",
    "golden_gate_park_lats, golden_gate_park_lons = zip(*[\n",
    "    (40.64676666, -73.7896347),\n",
    "    (40.64159012, -73.78881073)])\n",
    "\n",
    "gmap.plot(golden_gate_park_lats, golden_gate_park_lons, 'cornflowerblue', edge_width=2)\n",
    "\n",
    "gmap.draw(\"LocationMap.html\")\n",
    "webbrowser.open('file://' + os.path.realpath('LocationMap.html'))"
   ]
  },
  {
   "cell_type": "markdown",
   "metadata": {},
   "source": [
    "## "
   ]
  }
 ],
 "metadata": {
  "kernelspec": {
   "display_name": "Python 3",
   "language": "python",
   "name": "python3"
  },
  "language_info": {
   "codemirror_mode": {
    "name": "ipython",
    "version": 3
   },
   "file_extension": ".py",
   "mimetype": "text/x-python",
   "name": "python",
   "nbconvert_exporter": "python",
   "pygments_lexer": "ipython3",
   "version": "3.6.4"
  }
 },
 "nbformat": 4,
 "nbformat_minor": 2
}
